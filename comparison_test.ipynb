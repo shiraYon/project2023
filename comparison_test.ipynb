{
  "nbformat": 4,
  "nbformat_minor": 0,
  "metadata": {
    "colab": {
      "provenance": [],
      "include_colab_link": true
    },
    "kernelspec": {
      "name": "python3",
      "display_name": "Python 3"
    },
    "language_info": {
      "name": "python"
    }
  },
  "cells": [
    {
      "cell_type": "markdown",
      "metadata": {
        "id": "view-in-github",
        "colab_type": "text"
      },
      "source": [
        "<a href=\"https://colab.research.google.com/github/shiraYon/project2023/blob/main/comparison_test.ipynb\" target=\"_parent\"><img src=\"https://colab.research.google.com/assets/colab-badge.svg\" alt=\"Open In Colab\"/></a>"
      ]
    },
    {
      "cell_type": "markdown",
      "source": [
        "### Comparison between the predictions and the given bounding boxes -Draw the prediction and the bounding boxes on the same image.\n",
        "#### Data needed:\n",
        "#### 1. images directory with Predicted bounding boxes(JPGׂ)\n",
        "#### 2. annotation file (CSV)\n"
      ],
      "metadata": {
        "id": "XKY-kNuPy-VS"
      }
    },
    {
      "cell_type": "code",
      "source": [
        "from google.colab import drive\n",
        "drive.mount('/content/gdrive')"
      ],
      "metadata": {
        "id": "e16RQhLNlSSC",
        "colab": {
          "base_uri": "https://localhost:8080/"
        },
        "outputId": "51ff6775-5f1d-4fa3-9a8a-7ad870cf2c9e"
      },
      "execution_count": null,
      "outputs": [
        {
          "output_type": "stream",
          "name": "stdout",
          "text": [
            "Mounted at /content/gdrive\n"
          ]
        }
      ]
    },
    {
      "cell_type": "code",
      "source": [
        "import pandas as pd\n",
        "import os\n",
        "from PIL import Image, ImageDraw"
      ],
      "metadata": {
        "id": "zGCjmEWUyo5i"
      },
      "execution_count": null,
      "outputs": []
    },
    {
      "cell_type": "markdown",
      "source": [
        "## Matching the name of the image in the annotation file to the names of the image files"
      ],
      "metadata": {
        "id": "_gHFp5EnOHtx"
      }
    },
    {
      "cell_type": "code",
      "source": [
        "\n",
        "annotations_csv = '/content/gdrive/MyDrive/bacteria cells/comparison_test/_annotations.csv' #path to annotation file\n",
        "annotations = pd.read_csv(annotations_csv)\n",
        "\n",
        "annotations['image_name'] = annotations['image_name'].apply(lambda x: x.split('_jpg')[0] + '.jpg')\n",
        "\n",
        "annotations.to_csv(annotations_csv, index=False)\n"
      ],
      "metadata": {
        "id": "MJR9XSz5vnRh"
      },
      "execution_count": null,
      "outputs": []
    },
    {
      "cell_type": "markdown",
      "source": [
        "## Change the images size to 500*500 px to fit the annotation file"
      ],
      "metadata": {
        "id": "pqiEsaf5Hi9t"
      }
    },
    {
      "cell_type": "code",
      "source": [
        "\n",
        "images_folder = '/content/gdrive/MyDrive/bacteria cells/test for comparison ' # path to the images directory with predictions on\n",
        "\n",
        "\n",
        "output_folder = '/content/gdrive/MyDrive/bacteria cells/resize' #path to save the resized images\n",
        "\n",
        "if not os.path.exists(output_folder):\n",
        "    os.makedirs(output_folder)\n",
        "\n",
        "for filename in os.listdir(images_folder):\n",
        "    if filename.endswith(\".jpg\") or filename.endswith(\".png\"):\n",
        "        image_path = os.path.join(images_folder, filename)\n",
        "\n",
        "        with Image.open(image_path) as img:\n",
        "            resized_img = img.resize((500, 500))\n",
        "\n",
        "            output_image_path = os.path.join(output_folder, filename)\n",
        "            resized_img.save(output_image_path)\n"
      ],
      "metadata": {
        "id": "l5YByI8dAfz9"
      },
      "execution_count": null,
      "outputs": []
    },
    {
      "cell_type": "markdown",
      "source": [
        "## Draw bounding boxes on the images with the squares of the predications"
      ],
      "metadata": {
        "id": "1Pi0Pr7_cu50"
      }
    },
    {
      "cell_type": "code",
      "source": [
        "\n",
        "def draw_bounding_boxes(images_folder, annotations_csv, output_folder):\n",
        "    annotations = pd.read_csv(annotations_csv)\n",
        "\n",
        "    if not os.path.exists(output_folder):\n",
        "        os.makedirs(output_folder)\n",
        "\n",
        "    grouped_annotations = annotations.groupby('image_name') # Sorting the annotations by image name\n",
        "\n",
        "\n",
        "    for image_name, group in grouped_annotations:\n",
        "        image_path = os.path.join(images_folder, image_name)\n",
        "        with Image.open(image_path) as img:\n",
        "            draw = ImageDraw.Draw(img)\n",
        "            for index, row in group.iterrows():\n",
        "                xmin, ymin, xmax, ymax = row['xmin'], row['ymin'], row['xmax'], row['ymax']\n",
        "\n",
        "                #draw green bounding boxes according to The coordinates in the annotations file\n",
        "                draw.rectangle([xmin, ymin, xmax, ymax], outline=\"green\", width=2)\n",
        "\n",
        "            output_image_path = os.path.join(output_folder, image_name)\n",
        "            img.save(output_image_path)\n",
        "\n",
        "\n",
        "\n",
        "images_folder = '/content/gdrive/MyDrive/bacteria cells/resize'\n",
        "annotations_csv = '/content/gdrive/MyDrive/bacteria cells/comparison_test/_annotations.csv'\n",
        "output_folder = '/content/gdrive/MyDrive/bacteria cells/comparison_test'\n",
        "\n",
        "draw_bounding_boxes(images_folder, annotations_csv, output_folder)\n"
      ],
      "metadata": {
        "id": "Fqo2igfFKlhy"
      },
      "execution_count": null,
      "outputs": []
    }
  ]
}